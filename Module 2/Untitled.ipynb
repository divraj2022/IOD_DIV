{
 "cells": [
  {
   "cell_type": "code",
   "execution_count": 1,
   "id": "e14f3d46-b12a-4a5c-878e-39c5ac9ed00f",
   "metadata": {},
   "outputs": [],
   "source": [
    "import pandas as pd\n",
    "import numpy as np\n",
    "import math\n",
    "import seaborn as sns\n",
    "import pandas as pd\n",
    "\n",
    "from scipy import stats\n",
    "from matplotlib import pyplot as plt\n",
    "\n",
    "%matplotlib inline"
   ]
  },
  {
   "cell_type": "code",
   "execution_count": 15,
   "id": "8401d2a7-0c88-46d0-8703-c75a89b1254e",
   "metadata": {},
   "outputs": [],
   "source": [
    "sys_bp=[183, 152, 178, 157, 194, 163, 144, 114, 178, 152, 118, 158, 172, 138]\n",
    "\n",
    "mu = 165"
   ]
  },
  {
   "cell_type": "code",
   "execution_count": 16,
   "id": "b9b4e253-95f8-4ba1-be03-e490b3e02e83",
   "metadata": {},
   "outputs": [
    {
     "name": "stdout",
     "output_type": "stream",
     "text": [
      "157.21428571428572\n"
     ]
    }
   ],
   "source": [
    "def mean(unsorted_sys_bp):\n",
    "    total = 0\n",
    "    for i in range(len(unsorted_sys_bp)):\n",
    "        total = total + sys_bp[i]\n",
    "    return (total/ len(unsorted_sys_bp))\n",
    "                  \n",
    "print(mean(sys_bp))"
   ]
  },
  {
   "cell_type": "code",
   "execution_count": 17,
   "id": "d50c1c83-f05b-49c1-a0c4-17c7c245675c",
   "metadata": {},
   "outputs": [],
   "source": [
    "t_statistics,p_value=stats.ttest_1samp(sys_bp,mu)"
   ]
  },
  {
   "cell_type": "code",
   "execution_count": 18,
   "id": "383866ad-c552-4b71-b9e2-e1d2efa22d9d",
   "metadata": {},
   "outputs": [
    {
     "data": {
      "text/plain": [
       "0.23575481011813063"
      ]
     },
     "execution_count": 18,
     "metadata": {},
     "output_type": "execute_result"
    }
   ],
   "source": [
    "p_value"
   ]
  },
  {
   "cell_type": "code",
   "execution_count": 20,
   "id": "35d9c2dc-d38b-4373-bfdb-cf4edd4e59d1",
   "metadata": {},
   "outputs": [],
   "source": [
    "One_tailed_p_value = float(\"{:.6F}\".format(p_value/2))"
   ]
  },
  {
   "cell_type": "code",
   "execution_count": 22,
   "id": "ed69b513-af42-4416-a639-2543b9655e0d",
   "metadata": {},
   "outputs": [
    {
     "name": "stdout",
     "output_type": "stream",
     "text": [
      "0.117877\n"
     ]
    }
   ],
   "source": [
    "print(One_tailed_p_value)"
   ]
  },
  {
   "cell_type": "code",
   "execution_count": null,
   "id": "e5694fe4-b42a-47d6-b670-64a871ff2e7f",
   "metadata": {},
   "outputs": [],
   "source": []
  }
 ],
 "metadata": {
  "kernelspec": {
   "display_name": "Python 3 (ipykernel)",
   "language": "python",
   "name": "python3"
  },
  "language_info": {
   "codemirror_mode": {
    "name": "ipython",
    "version": 3
   },
   "file_extension": ".py",
   "mimetype": "text/x-python",
   "name": "python",
   "nbconvert_exporter": "python",
   "pygments_lexer": "ipython3",
   "version": "3.9.13"
  }
 },
 "nbformat": 4,
 "nbformat_minor": 5
}
