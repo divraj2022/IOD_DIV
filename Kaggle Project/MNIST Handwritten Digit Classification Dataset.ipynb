{
 "cells": [
  {
   "cell_type": "markdown",
   "id": "05b36d80-3975-4c0b-98bd-dcb72213fe67",
   "metadata": {},
   "source": [
    "# MNIST Handwritten Digit Classification Dataset"
   ]
  },
  {
   "cell_type": "markdown",
   "id": "352814b9-3026-4fd5-9344-9e55d42eb02a",
   "metadata": {},
   "source": [
    "## Load Libraries"
   ]
  },
  {
   "cell_type": "code",
   "execution_count": 5,
   "id": "ae090934-290c-49bb-996a-edf2f4cc9cb2",
   "metadata": {},
   "outputs": [],
   "source": [
    "from tensorflow.keras.datasets import mnist\n",
    "import matplotlib.pyplot as plt"
   ]
  },
  {
   "cell_type": "code",
   "execution_count": 7,
   "id": "cd033049-b135-4851-af32-d0a50be674ae",
   "metadata": {},
   "outputs": [
    {
     "name": "stdout",
     "output_type": "stream",
     "text": [
      "Downloading data from https://storage.googleapis.com/tensorflow/tf-keras-datasets/mnist.npz\n",
      "11490434/11490434 [==============================] - 1s 0us/step\n"
     ]
    }
   ],
   "source": [
    "(X_train, y_train), (X_test, y_test) = mnist.load_data()"
   ]
  },
  {
   "cell_type": "code",
   "execution_count": null,
   "id": "332777bb-7a9a-47c7-948c-b72190b60e0f",
   "metadata": {},
   "outputs": [],
   "source": [
    "# summarise loaded dataset\n",
    "print('Train: X=%s' % (X_train.shape, y_train.shape))\n",
    "print('Train: X=%s' % (X_test.shape, y_test.shape))"
   ]
  }
 ],
 "metadata": {
  "kernelspec": {
   "display_name": "Python 3 (ipykernel)",
   "language": "python",
   "name": "python3"
  },
  "language_info": {
   "codemirror_mode": {
    "name": "ipython",
    "version": 3
   },
   "file_extension": ".py",
   "mimetype": "text/x-python",
   "name": "python",
   "nbconvert_exporter": "python",
   "pygments_lexer": "ipython3",
   "version": "3.9.13"
  }
 },
 "nbformat": 4,
 "nbformat_minor": 5
}
